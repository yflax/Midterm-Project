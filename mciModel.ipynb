{
 "cells": [
  {
   "cell_type": "code",
   "execution_count": 38,
   "metadata": {},
   "outputs": [],
   "source": [
    "import pandas as pd\n",
    "import statsmodels.api as sm\n",
    "from sklearn.model_selection import train_test_split\n",
    "from sklearn.neighbors import KNeighborsClassifier\n",
    "from sklearn.metrics import classification_report, confusion_matrix, accuracy_score\n",
    "from sklearn.ensemble import RandomForestClassifier\n",
    "from sklearn.tree import DecisionTreeClassifier\n",
    "from sklearn import metrics\n",
    "from sklearn import preprocessing\n",
    "from IPython.display import display"
   ]
  },
  {
   "cell_type": "code",
   "execution_count": 16,
   "metadata": {},
   "outputs": [],
   "source": [
    "mciModel = pd.read_csv('full_db.csv')"
   ]
  },
  {
   "cell_type": "code",
   "execution_count": 17,
   "metadata": {},
   "outputs": [
    {
     "data": {
      "text/plain": [
       "(321843, 35)"
      ]
     },
     "execution_count": 17,
     "metadata": {},
     "output_type": "execute_result"
    }
   ],
   "source": [
    "mciModel2014 = mciModel[mciModel['OCC_YEAR']>= 2014]\n",
    "mciModel2014.shape"
   ]
  },
  {
   "cell_type": "code",
   "execution_count": 18,
   "metadata": {},
   "outputs": [
    {
     "name": "stderr",
     "output_type": "stream",
     "text": [
      "C:\\Users\\WithA\\AppData\\Local\\Temp\\ipykernel_5432\\3138154694.py:2: SettingWithCopyWarning: \n",
      "A value is trying to be set on a copy of a slice from a DataFrame\n",
      "\n",
      "See the caveats in the documentation: https://pandas.pydata.org/pandas-docs/stable/user_guide/indexing.html#returning-a-view-versus-a-copy\n",
      "  mciModel2014.drop(mciModel2014[mciModel2014.HOOD_140 == 'NSA'].index, inplace=True)\n"
     ]
    }
   ],
   "source": [
    "# Remove all the roes contains NSA (No Specific Area) string values \n",
    "mciModel2014.drop(mciModel2014[mciModel2014.HOOD_140 == 'NSA'].index, inplace=True)"
   ]
  },
  {
   "cell_type": "code",
   "execution_count": 19,
   "metadata": {},
   "outputs": [
    {
     "name": "stderr",
     "output_type": "stream",
     "text": [
      "C:\\Users\\WithA\\AppData\\Local\\Temp\\ipykernel_5432\\87000198.py:3: SettingWithCopyWarning: \n",
      "A value is trying to be set on a copy of a slice from a DataFrame.\n",
      "Try using .loc[row_indexer,col_indexer] = value instead\n",
      "\n",
      "See the caveats in the documentation: https://pandas.pydata.org/pandas-docs/stable/user_guide/indexing.html#returning-a-view-versus-a-copy\n",
      "  mciModel2014['PREMISES_TYPE_Code']= label_encoder.fit_transform(mciModel2014['PREMISES_TYPE'])\n",
      "C:\\Users\\WithA\\AppData\\Local\\Temp\\ipykernel_5432\\87000198.py:4: SettingWithCopyWarning: \n",
      "A value is trying to be set on a copy of a slice from a DataFrame.\n",
      "Try using .loc[row_indexer,col_indexer] = value instead\n",
      "\n",
      "See the caveats in the documentation: https://pandas.pydata.org/pandas-docs/stable/user_guide/indexing.html#returning-a-view-versus-a-copy\n",
      "  mciModel2014['MCI_CATEGORY_Code']= label_encoder.fit_transform(mciModel2014['MCI_CATEGORY'])\n"
     ]
    }
   ],
   "source": [
    "# Label encode for categorical columns\n",
    "label_encoder = preprocessing.LabelEncoder()\n",
    "mciModel2014['PREMISES_TYPE_Code']= label_encoder.fit_transform(mciModel2014['PREMISES_TYPE'])  \n",
    "mciModel2014['MCI_CATEGORY_Code']= label_encoder.fit_transform(mciModel2014['MCI_CATEGORY']) "
   ]
  },
  {
   "cell_type": "code",
   "execution_count": 20,
   "metadata": {},
   "outputs": [
    {
     "data": {
      "text/plain": [
       "array([2, 0, 7, 1, 9, 4, 6, 5, 8, 3])"
      ]
     },
     "metadata": {},
     "output_type": "display_data"
    },
    {
     "data": {
      "text/plain": [
       "array([2, 0, 3, 1, 4])"
      ]
     },
     "metadata": {},
     "output_type": "display_data"
    }
   ],
   "source": [
    "display(mciModel2014['PREMISES_TYPE_Code'].unique())\n",
    "display(mciModel2014['MCI_CATEGORY_Code'].unique())"
   ]
  },
  {
   "cell_type": "code",
   "execution_count": 26,
   "metadata": {},
   "outputs": [],
   "source": [
    "# Separate features from target data\n",
    "X = mciModel2014[['OCC_DOY','OCC_HOUR','PREMISES_TYPE_Code','lowinc_percent','Female Unemployment Ratio','HOOD_140']]\n",
    "y = mciModel2014['MCI_CATEGORY_Code']"
   ]
  },
  {
   "cell_type": "code",
   "execution_count": 27,
   "metadata": {},
   "outputs": [],
   "source": [
    "# Scale the features\n",
    "MinMaxScaler = preprocessing.MinMaxScaler()\n",
    "X_minmax = MinMaxScaler.fit_transform(X)"
   ]
  },
  {
   "cell_type": "code",
   "execution_count": 28,
   "metadata": {},
   "outputs": [
    {
     "data": {
      "text/html": [
       "<div>\n",
       "<style scoped>\n",
       "    .dataframe tbody tr th:only-of-type {\n",
       "        vertical-align: middle;\n",
       "    }\n",
       "\n",
       "    .dataframe tbody tr th {\n",
       "        vertical-align: top;\n",
       "    }\n",
       "\n",
       "    .dataframe thead th {\n",
       "        text-align: right;\n",
       "    }\n",
       "</style>\n",
       "<table border=\"1\" class=\"dataframe\">\n",
       "  <thead>\n",
       "    <tr style=\"text-align: right;\">\n",
       "      <th></th>\n",
       "      <th>OCC_DOY</th>\n",
       "      <th>OCC_HOUR</th>\n",
       "      <th>PREMISES_TYPE_Code</th>\n",
       "      <th>lowinc_percent</th>\n",
       "      <th>Female Unemployment Ratio</th>\n",
       "      <th>HOOD_140</th>\n",
       "    </tr>\n",
       "  </thead>\n",
       "  <tbody>\n",
       "    <tr>\n",
       "      <th>0</th>\n",
       "      <td>0.0</td>\n",
       "      <td>0.090909</td>\n",
       "      <td>0.222222</td>\n",
       "      <td>0.287500</td>\n",
       "      <td>0.192661</td>\n",
       "      <td>0.496403</td>\n",
       "    </tr>\n",
       "    <tr>\n",
       "      <th>1</th>\n",
       "      <td>0.0</td>\n",
       "      <td>0.136364</td>\n",
       "      <td>0.000000</td>\n",
       "      <td>0.782143</td>\n",
       "      <td>0.770642</td>\n",
       "      <td>0.525180</td>\n",
       "    </tr>\n",
       "    <tr>\n",
       "      <th>2</th>\n",
       "      <td>0.0</td>\n",
       "      <td>0.136364</td>\n",
       "      <td>0.777778</td>\n",
       "      <td>0.100000</td>\n",
       "      <td>0.146789</td>\n",
       "      <td>0.467626</td>\n",
       "    </tr>\n",
       "    <tr>\n",
       "      <th>3</th>\n",
       "      <td>0.0</td>\n",
       "      <td>0.045455</td>\n",
       "      <td>0.111111</td>\n",
       "      <td>0.376786</td>\n",
       "      <td>0.165138</td>\n",
       "      <td>0.546763</td>\n",
       "    </tr>\n",
       "    <tr>\n",
       "      <th>4</th>\n",
       "      <td>0.0</td>\n",
       "      <td>0.000000</td>\n",
       "      <td>0.222222</td>\n",
       "      <td>0.492857</td>\n",
       "      <td>0.440367</td>\n",
       "      <td>0.899281</td>\n",
       "    </tr>\n",
       "  </tbody>\n",
       "</table>\n",
       "</div>"
      ],
      "text/plain": [
       "   OCC_DOY  OCC_HOUR  PREMISES_TYPE_Code  lowinc_percent  \\\n",
       "0      0.0  0.090909            0.222222        0.287500   \n",
       "1      0.0  0.136364            0.000000        0.782143   \n",
       "2      0.0  0.136364            0.777778        0.100000   \n",
       "3      0.0  0.045455            0.111111        0.376786   \n",
       "4      0.0  0.000000            0.222222        0.492857   \n",
       "\n",
       "   Female Unemployment Ratio  HOOD_140  \n",
       "0                   0.192661  0.496403  \n",
       "1                   0.770642  0.525180  \n",
       "2                   0.146789  0.467626  \n",
       "3                   0.165138  0.546763  \n",
       "4                   0.440367  0.899281  "
      ]
     },
     "execution_count": 28,
     "metadata": {},
     "output_type": "execute_result"
    }
   ],
   "source": [
    "X = pd.DataFrame(X_minmax,columns=['OCC_DOY','OCC_HOUR','PREMISES_TYPE_Code','lowinc_percent','Female Unemployment Ratio','HOOD_140'])\n",
    "X.head()"
   ]
  },
  {
   "cell_type": "code",
   "execution_count": 29,
   "metadata": {},
   "outputs": [],
   "source": [
    "y =list(y)\n",
    "mn = sm.MNLogit(y,sm.add_constant(X))\n"
   ]
  },
  {
   "cell_type": "code",
   "execution_count": 30,
   "metadata": {},
   "outputs": [
    {
     "name": "stdout",
     "output_type": "stream",
     "text": [
      "Optimization terminated successfully.\n",
      "         Current function value: 1.166787\n",
      "         Iterations 6\n",
      "                          MNLogit Regression Results                          \n",
      "==============================================================================\n",
      "Dep. Variable:                      y   No. Observations:               316452\n",
      "Model:                        MNLogit   Df Residuals:                   316424\n",
      "Method:                           MLE   Df Model:                           24\n",
      "Date:                Sat, 15 Jul 2023   Pseudo R-squ.:                 0.07936\n",
      "Time:                        22:32:01   Log-Likelihood:            -3.6923e+05\n",
      "converged:                       True   LL-Null:                   -4.0106e+05\n",
      "Covariance Type:            nonrobust   LLR p-value:                     0.000\n",
      "=============================================================================================\n",
      "                      y=1       coef    std err          z      P>|z|      [0.025      0.975]\n",
      "---------------------------------------------------------------------------------------------\n",
      "const                        -2.1434      0.024    -87.946      0.000      -2.191      -2.096\n",
      "OCC_DOY                       0.1610      0.020      8.086      0.000       0.122       0.200\n",
      "OCC_HOUR                      0.4571      0.019     24.302      0.000       0.420       0.494\n",
      "PREMISES_TYPE_Code            2.6103      0.019    134.601      0.000       2.572       2.648\n",
      "lowinc_percent               -2.9693      0.046    -65.036      0.000      -3.059      -2.880\n",
      "Female Unemployment Ratio     2.1847      0.044     49.857      0.000       2.099       2.271\n",
      "HOOD_140                     -1.1774      0.019    -62.366      0.000      -1.214      -1.140\n",
      "---------------------------------------------------------------------------------------------\n",
      "                      y=2       coef    std err          z      P>|z|      [0.025      0.975]\n",
      "---------------------------------------------------------------------------------------------\n",
      "const                         0.5952      0.019     31.518      0.000       0.558       0.632\n",
      "OCC_DOY                       0.0522      0.017      3.095      0.002       0.019       0.085\n",
      "OCC_HOUR                     -0.8789      0.016    -56.552      0.000      -0.909      -0.848\n",
      "PREMISES_TYPE_Code           -1.6091      0.017    -93.330      0.000      -1.643      -1.575\n",
      "lowinc_percent               -1.5837      0.036    -43.704      0.000      -1.655      -1.513\n",
      "Female Unemployment Ratio    -0.1148      0.035     -3.233      0.001      -0.184      -0.045\n",
      "HOOD_140                      0.0422      0.017      2.463      0.014       0.009       0.076\n",
      "---------------------------------------------------------------------------------------------\n",
      "                      y=3       coef    std err          z      P>|z|      [0.025      0.975]\n",
      "---------------------------------------------------------------------------------------------\n",
      "const                        -2.5738      0.027    -94.714      0.000      -2.627      -2.521\n",
      "OCC_DOY                      -0.0636      0.022     -2.831      0.005      -0.108      -0.020\n",
      "OCC_HOUR                      0.3193      0.021     15.093      0.000       0.278       0.361\n",
      "PREMISES_TYPE_Code            1.4566      0.020     71.602      0.000       1.417       1.496\n",
      "lowinc_percent               -0.5484      0.046    -11.958      0.000      -0.638      -0.459\n",
      "Female Unemployment Ratio     0.7047      0.045     15.580      0.000       0.616       0.793\n",
      "HOOD_140                     -0.0842      0.022     -3.880      0.000      -0.127      -0.042\n",
      "---------------------------------------------------------------------------------------------\n",
      "                      y=4       coef    std err          z      P>|z|      [0.025      0.975]\n",
      "---------------------------------------------------------------------------------------------\n",
      "const                        -2.1059      0.041    -51.867      0.000      -2.185      -2.026\n",
      "OCC_DOY                       0.1181      0.036      3.320      0.001       0.048       0.188\n",
      "OCC_HOUR                     -0.1224      0.033     -3.736      0.000      -0.187      -0.058\n",
      "PREMISES_TYPE_Code            0.1855      0.032      5.752      0.000       0.122       0.249\n",
      "lowinc_percent               -1.0936      0.075    -14.606      0.000      -1.240      -0.947\n",
      "Female Unemployment Ratio     0.1559      0.074      2.114      0.035       0.011       0.300\n",
      "HOOD_140                     -0.7109      0.035    -20.169      0.000      -0.780      -0.642\n",
      "=============================================================================================\n"
     ]
    }
   ],
   "source": [
    "model = mn.fit()\n",
    "print_model = model.summary()\n",
    "print(print_model)"
   ]
  },
  {
   "cell_type": "code",
   "execution_count": 31,
   "metadata": {},
   "outputs": [],
   "source": [
    "X_train, X_test, y_train, y_test = train_test_split(X, y, test_size=0.2, random_state=0)"
   ]
  },
  {
   "cell_type": "code",
   "execution_count": 32,
   "metadata": {},
   "outputs": [],
   "source": [
    "knn_clf=KNeighborsClassifier()\n",
    "knn_clf.fit(X_train,y_train)\n",
    "ypred=knn_clf.predict(X_test)"
   ]
  },
  {
   "cell_type": "code",
   "execution_count": 33,
   "metadata": {},
   "outputs": [
    {
     "name": "stdout",
     "output_type": "stream",
     "text": [
      "Confusion Matrix:\n",
      "[[27046  2224  3163  1119    98]\n",
      " [ 3829  4209   696   332    52]\n",
      " [ 6276   842  5096   237    39]\n",
      " [ 3799   613   512  1075    21]\n",
      " [ 1184   348   368    87    26]]\n"
     ]
    }
   ],
   "source": [
    "result = confusion_matrix(y_test, ypred)\n",
    "print(\"Confusion Matrix:\")\n",
    "print(result)"
   ]
  },
  {
   "cell_type": "code",
   "execution_count": 34,
   "metadata": {},
   "outputs": [
    {
     "name": "stdout",
     "output_type": "stream",
     "text": [
      "Classification Report:\n",
      "              precision    recall  f1-score   support\n",
      "\n",
      "           0       0.64      0.80      0.71     33650\n",
      "           1       0.51      0.46      0.49      9118\n",
      "           2       0.52      0.41      0.46     12490\n",
      "           3       0.38      0.18      0.24      6020\n",
      "           4       0.11      0.01      0.02      2013\n",
      "\n",
      "    accuracy                           0.59     63291\n",
      "   macro avg       0.43      0.37      0.38     63291\n",
      "weighted avg       0.56      0.59      0.56     63291\n",
      "\n"
     ]
    }
   ],
   "source": [
    "result1 = classification_report(y_test, ypred)\n",
    "print(\"Classification Report:\",)\n",
    "print (result1)"
   ]
  },
  {
   "cell_type": "code",
   "execution_count": 35,
   "metadata": {},
   "outputs": [
    {
     "name": "stdout",
     "output_type": "stream",
     "text": [
      "Accuracy: 0.591742901834384\n"
     ]
    }
   ],
   "source": [
    "result2 = accuracy_score(y_test,ypred)\n",
    "print(\"Accuracy:\",result2)"
   ]
  },
  {
   "cell_type": "code",
   "execution_count": 39,
   "metadata": {},
   "outputs": [
    {
     "data": {
      "text/plain": [
       "0.621600483486793"
      ]
     },
     "execution_count": 39,
     "metadata": {},
     "output_type": "execute_result"
    }
   ],
   "source": [
    "classifier_rf = RandomForestClassifier(random_state=42, n_jobs=-1, max_depth=12,n_estimators=100, oob_score=True)\n",
    "classifier_rf.fit(X_train, y_train)\n",
    "classifier_rf.oob_score_\n"
   ]
  },
  {
   "cell_type": "code",
   "execution_count": 40,
   "metadata": {},
   "outputs": [
    {
     "name": "stdout",
     "output_type": "stream",
     "text": [
      "Accuracy: 0.6107661436855161\n"
     ]
    }
   ],
   "source": [
    "dtree = DecisionTreeClassifier(criterion=\"entropy\", max_depth=12)\n",
    "dtree = dtree.fit(X_train, y_train)\n",
    "y_pred = dtree.predict(X_test)\n",
    "print(\"Accuracy:\",metrics.accuracy_score(y_test, y_pred))"
   ]
  }
 ],
 "metadata": {
  "kernelspec": {
   "display_name": "LHL-gen",
   "language": "python",
   "name": "gen"
  },
  "language_info": {
   "codemirror_mode": {
    "name": "ipython",
    "version": 3
   },
   "file_extension": ".py",
   "mimetype": "text/x-python",
   "name": "python",
   "nbconvert_exporter": "python",
   "pygments_lexer": "ipython3",
   "version": "3.10.8"
  },
  "orig_nbformat": 4
 },
 "nbformat": 4,
 "nbformat_minor": 2
}
